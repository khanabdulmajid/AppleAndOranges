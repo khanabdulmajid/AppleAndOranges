{
  "nbformat": 4,
  "nbformat_minor": 0,
  "metadata": {
    "colab": {
      "name": "Sherlock Holmes Safe-Lock Problem",
      "provenance": [],
      "authorship_tag": "ABX9TyMD8FilAHgu0U5iTNtL6bnQ",
      "include_colab_link": true
    },
    "kernelspec": {
      "name": "python3",
      "display_name": "Python 3"
    }
  },
  "cells": [
    {
      "cell_type": "markdown",
      "metadata": {
        "id": "view-in-github",
        "colab_type": "text"
      },
      "source": [
        "<a href=\"https://colab.research.google.com/github/khanabdulmajid/AppleAndOranges/blob/master/Sherlock_Holmes_Safe_Lock_Problem.ipynb\" target=\"_parent\"><img src=\"https://colab.research.google.com/assets/colab-badge.svg\" alt=\"Open In Colab\"/></a>"
      ]
    },
    {
      "cell_type": "markdown",
      "metadata": {
        "id": "ulA4rYe09rKw",
        "colab_type": "text"
      },
      "source": [
        "#Input Format\n",
        "3        // no. of rows\n",
        "4         // no. of columns\n",
        "1 6 7 9   // 1 st row\n",
        "3 9 12 15 // 2 nd row\n",
        "2 4 5 6 // 3 rd row\n",
        "6 3 6 // code of the safe\n",
        "2     // minimum number of moves"
      ]
    },
    {
      "cell_type": "code",
      "metadata": {
        "id": "nrvY8jcyc-CK",
        "colab_type": "code",
        "colab": {
          "base_uri": "https://localhost:8080/",
          "height": 150
        },
        "outputId": "4f4c2481-3cc6-48eb-ba5c-7c3bbd18e865"
      },
      "source": [
        "import sys\n",
        "import numpy as np\n",
        "\n",
        "\n",
        "\n",
        "def solution(A,L):\n",
        "  A=np.array(A)\n",
        "  col_len=A.shape[1]\n",
        "  minimal_count=[]\n",
        "  for i in range(len(pos)):\n",
        "    rev_list=list(reversed(A[i]))\n",
        "    list1=list(A[i])\n",
        "    count=0\n",
        "    count_rev=1\n",
        "    final_count=[]\n",
        "    for j in range(0,col_len):\n",
        "\n",
        "      if (pos[i]!=list1[j]):\n",
        "        count+=1\n",
        "      else:\n",
        "        final_count.append(count)\n",
        "      if (pos[i]!=rev_list[j]):\n",
        "        count_rev+=1\n",
        "        \n",
        "      else:\n",
        "        final_count.append(count_rev)\n",
        "      \n",
        "    minimal_count.append(min(final_count))\n",
        "  return sum(minimal_count)\n",
        "\n",
        "    \n",
        "def createMatrix(M,N):\n",
        "    A = []\n",
        "    for n in range(M):\n",
        "        R = [int(e) for e in input().split()]\n",
        "        assert(len(R) == N)\n",
        "        A.append(R)\n",
        "    return A\n",
        "\n",
        "M = int(input())\n",
        "N = int(input())\n",
        "A = createMatrix(M,N)\n",
        "L=[]\n",
        "n=0\n",
        "for e in input().split():\n",
        "  if(n<M):\n",
        "      L.append(int (e))\n",
        "      n+=1\n",
        "\n",
        "moves = solution(A,L)\n",
        "print('Minimum no. of Moves = ',moves, end='', flush=True)"
      ],
      "execution_count": 177,
      "outputs": [
        {
          "output_type": "stream",
          "text": [
            "3\n",
            "4\n",
            "1 6 7 9\n",
            "3 9 12 15\n",
            "2 4 5 6\n",
            "6 3 6\n",
            "Minimum no. of Moves =  2"
          ],
          "name": "stdout"
        }
      ]
    },
    {
      "cell_type": "markdown",
      "metadata": {
        "id": "MbPFNCeu9oYJ",
        "colab_type": "text"
      },
      "source": [
        ""
      ]
    }
  ]
}